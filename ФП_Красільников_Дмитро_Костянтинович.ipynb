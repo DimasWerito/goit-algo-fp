{
  "nbformat": 4,
  "nbformat_minor": 0,
  "metadata": {
    "colab": {
      "provenance": [],
      "authorship_tag": "ABX9TyPmGBhJ6X2BcXsQ+eFr6hLW",
      "include_colab_link": true
    },
    "kernelspec": {
      "name": "python3",
      "display_name": "Python 3"
    },
    "language_info": {
      "name": "python"
    }
  },
  "cells": [
    {
      "cell_type": "markdown",
      "metadata": {
        "id": "view-in-github",
        "colab_type": "text"
      },
      "source": [
        "<a href=\"https://colab.research.google.com/github/DimasWerito/goit-algo-fp/blob/main/%D0%A4%D0%9F_%D0%9A%D1%80%D0%B0%D1%81%D1%96%D0%BB%D1%8C%D0%BD%D0%B8%D0%BA%D0%BE%D0%B2_%D0%94%D0%BC%D0%B8%D1%82%D1%80%D0%BE_%D0%9A%D0%BE%D1%81%D1%82%D1%8F%D0%BD%D1%82%D0%B8%D0%BD%D0%BE%D0%B2%D0%B8%D1%87.ipynb\" target=\"_parent\"><img src=\"https://colab.research.google.com/assets/colab-badge.svg\" alt=\"Open In Colab\"/></a>"
      ]
    },
    {
      "cell_type": "markdown",
      "source": [
        "#Завдання 1"
      ],
      "metadata": {
        "id": "il93CX0S-nF_"
      }
    },
    {
      "cell_type": "markdown",
      "source": [
        "# Реалізація однозв'язного списку"
      ],
      "metadata": {
        "id": "vLVdQ2X7-rOK"
      }
    },
    {
      "cell_type": "code",
      "execution_count": null,
      "metadata": {
        "id": "YBxCptjo-fJZ"
      },
      "outputs": [],
      "source": [
        "class Node:\n",
        "    def __init__(self, data):\n",
        "        self.data = data\n",
        "        self.next = None\n",
        "\n",
        "class LinkedList:\n",
        "    def __init__(self):\n",
        "        self.head = None\n",
        "\n",
        "    def append(self, data):\n",
        "        new_node = Node(data)\n",
        "        if not self.head:\n",
        "            self.head = new_node\n",
        "            return\n",
        "        last_node = self.head\n",
        "        while last_node.next:\n",
        "            last_node = last_node.next\n",
        "        last_node.next = new_node\n",
        "\n",
        "    def print_list(self):\n",
        "        current = self.head\n",
        "        while current:\n",
        "            print(current.data, end=\" -> \")\n",
        "            current = current.next\n",
        "        print(\"None\")\n"
      ]
    },
    {
      "cell_type": "markdown",
      "source": [
        "# Функція реверсування однозв'язного списку"
      ],
      "metadata": {
        "id": "50LdeeKu-0GH"
      }
    },
    {
      "cell_type": "code",
      "source": [
        "def reverse_linked_list(llist):\n",
        "    prev = None\n",
        "    current = llist.head\n",
        "    while current:\n",
        "        next_node = current.next\n",
        "        current.next = prev\n",
        "        prev = current\n",
        "        current = next_node\n",
        "    llist.head = prev\n"
      ],
      "metadata": {
        "id": "evUAnvBc-3j0"
      },
      "execution_count": null,
      "outputs": []
    },
    {
      "cell_type": "markdown",
      "source": [
        "#Алгоритм сортування однозв'язного списку (сортування злиттям)"
      ],
      "metadata": {
        "id": "Vp6I3WfQ-7GY"
      }
    },
    {
      "cell_type": "code",
      "source": [
        "def merge_sort_linked_list(head):\n",
        "    if not head or not head.next:\n",
        "        return head\n",
        "\n",
        "    middle = get_middle(head)\n",
        "    next_to_middle = middle.next\n",
        "    middle.next = None\n",
        "\n",
        "    left = merge_sort_linked_list(head)\n",
        "    right = merge_sort_linked_list(next_to_middle)\n",
        "\n",
        "    sorted_list = sorted_merge(left, right)\n",
        "    return sorted_list\n",
        "\n",
        "def get_middle(head):\n",
        "    if not head:\n",
        "        return head\n",
        "\n",
        "    slow = head\n",
        "    fast = head\n",
        "\n",
        "    while fast.next and fast.next.next:\n",
        "        slow = slow.next\n",
        "        fast = fast.next.next\n",
        "\n",
        "    return slow\n",
        "\n",
        "def sorted_merge(left, right):\n",
        "    if not left:\n",
        "        return right\n",
        "    if not right:\n",
        "        return left\n",
        "\n",
        "    if left.data <= right.data:\n",
        "        result = left\n",
        "        result.next = sorted_merge(left.next, right)\n",
        "    else:\n",
        "        result = right\n",
        "        result.next = sorted_merge(left, right.next)\n",
        "    return result\n"
      ],
      "metadata": {
        "id": "emVmLzkz-9by"
      },
      "execution_count": null,
      "outputs": []
    },
    {
      "cell_type": "markdown",
      "source": [
        "#Функція об'єднання двох відсортованих однозв'язних списків"
      ],
      "metadata": {
        "id": "aamvQG6__CM5"
      }
    },
    {
      "cell_type": "code",
      "source": [
        "def merge_two_sorted_lists(list1, list2):\n",
        "    dummy = Node(0)\n",
        "    tail = dummy\n",
        "\n",
        "    l1 = list1.head\n",
        "    l2 = list2.head\n",
        "\n",
        "    while l1 and l2:\n",
        "        if l1.data <= l2.data:\n",
        "            tail.next = l1\n",
        "            l1 = l1.next\n",
        "        else:\n",
        "            tail.next = l2\n",
        "            l2 = l2.next\n",
        "        tail = tail.next\n",
        "\n",
        "    if l1:\n",
        "        tail.next = l1\n",
        "    if l2:\n",
        "        tail.next = l2\n",
        "\n",
        "    merged_list = LinkedList()\n",
        "    merged_list.head = dummy.next\n",
        "    return merged_list\n"
      ],
      "metadata": {
        "id": "fmCt_1jk_EWw"
      },
      "execution_count": null,
      "outputs": []
    },
    {
      "cell_type": "markdown",
      "source": [
        "#Приклади використання"
      ],
      "metadata": {
        "id": "KMOR-cGt_LEN"
      }
    },
    {
      "cell_type": "code",
      "source": [
        "# Створення і виведення списку\n",
        "llist = LinkedList()\n",
        "llist.append(5)\n",
        "llist.append(3)\n",
        "llist.append(8)\n",
        "llist.append(1)\n",
        "print(\"Початковий список:\")\n",
        "llist.print_list()\n",
        "\n",
        "# Реверсування списку\n",
        "reverse_linked_list(llist)\n",
        "print(\"Реверсований список:\")\n",
        "llist.print_list()\n",
        "\n",
        "# Сортування списку\n",
        "llist.head = merge_sort_linked_list(llist.head)\n",
        "print(\"Відсортований список:\")\n",
        "llist.print_list()\n",
        "\n",
        "# Об'єднання двох відсортованих списків\n",
        "llist1 = LinkedList()\n",
        "llist1.append(1)\n",
        "llist1.append(3)\n",
        "llist1.append(5)\n",
        "\n",
        "llist2 = LinkedList()\n",
        "llist2.append(2)\n",
        "llist2.append(4)\n",
        "llist2.append(6)\n",
        "\n",
        "merged_list = merge_two_sorted_lists(llist1, llist2)\n",
        "print(\"Об'єднаний відсортований список:\")\n",
        "merged_list.print_list()\n"
      ],
      "metadata": {
        "id": "d3sG90kh_Msn"
      },
      "execution_count": null,
      "outputs": []
    },
    {
      "cell_type": "markdown",
      "source": [
        "# Завдання 2"
      ],
      "metadata": {
        "id": "LqYaFIb8ACJs"
      }
    },
    {
      "cell_type": "code",
      "source": [
        "import turtle\n",
        "import math\n",
        "\n",
        "def draw_tree(branch_length, t, level):\n",
        "    if level > 0:\n",
        "        # Draw the main branch\n",
        "        t.forward(branch_length)\n",
        "\n",
        "        # Draw the right subtree\n",
        "        angle = 45\n",
        "        t.right(angle)\n",
        "        draw_tree(branch_length * math.cos(math.radians(angle)), t, level - 1)\n",
        "\n",
        "        # Return to the main branch\n",
        "        t.left(angle)\n",
        "\n",
        "        # Draw the left subtree\n",
        "        t.left(angle)\n",
        "        draw_tree(branch_length * math.cos(math.radians(angle)), t, level - 1)\n",
        "\n",
        "        # Return to the main branch and go back to the starting point\n",
        "        t.right(angle)\n",
        "        t.backward(branch_length)\n",
        "\n",
        "def main():\n",
        "    # Set up the screen\n",
        "    screen = turtle.Screen()\n",
        "    screen.bgcolor(\"white\")\n",
        "    screen.title(\"Pythagoras Tree\")\n",
        "\n",
        "    # Set up the turtle\n",
        "    t = turtle.Turtle()\n",
        "    t.color(\"green\")\n",
        "    t.speed(0)\n",
        "    t.left(90)\n",
        "    t.up()\n",
        "    t.backward(100)\n",
        "    t.down()\n",
        "\n",
        "    # Ask the user for the level of recursion\n",
        "    level = int(screen.numinput(\"Input\", \"Enter the level of recursion:\", minval=1, maxval=10))\n",
        "\n",
        "    # Draw the tree\n",
        "    draw_tree(100, t, level)\n",
        "\n",
        "    # Finish up\n",
        "    t.hideturtle()\n",
        "    screen.mainloop()\n",
        "\n",
        "if __name__ == \"__main__\":\n",
        "    main()\n"
      ],
      "metadata": {
        "id": "GJSXi79DAGSz"
      },
      "execution_count": null,
      "outputs": []
    },
    {
      "cell_type": "markdown",
      "source": [
        "# Завдання 3"
      ],
      "metadata": {
        "id": "oV8GDFB4AfYI"
      }
    },
    {
      "cell_type": "code",
      "source": [
        "import heapq\n",
        "\n",
        "class Graph:\n",
        "    def __init__(self):\n",
        "        self.edges = {}\n",
        "\n",
        "    def add_edge(self, from_node, to_node, weight):\n",
        "        if from_node not in self.edges:\n",
        "            self.edges[from_node] = []\n",
        "        self.edges[from_node].append((to_node, weight))\n",
        "\n",
        "def dijkstra(graph, start):\n",
        "    # Initialize the priority queue\n",
        "    priority_queue = []\n",
        "    heapq.heappush(priority_queue, (0, start))\n",
        "\n",
        "    # Dictionary to store the shortest path to each node\n",
        "    shortest_path = {start: (None, 0)}\n",
        "\n",
        "    while priority_queue:\n",
        "        current_weight, current_node = heapq.heappop(priority_queue)\n",
        "\n",
        "        # Check if the node is already visited with a shorter path\n",
        "        if current_weight > shortest_path[current_node][1]:\n",
        "            continue\n",
        "\n",
        "        for neighbor, weight in graph.edges.get(current_node, []):\n",
        "            distance = current_weight + weight\n",
        "            if neighbor not in shortest_path or distance < shortest_path[neighbor][1]:\n",
        "                shortest_path[neighbor] = (current_node, distance)\n",
        "                heapq.heappush(priority_queue, (distance, neighbor))\n",
        "\n",
        "    return shortest_path\n",
        "\n",
        "def construct_path(shortest_path, start, end):\n",
        "    path = []\n",
        "    current_node = end\n",
        "    while current_node is not None:\n",
        "        path.append(current_node)\n",
        "        next_node = shortest_path[current_node][0]\n",
        "        current_node = next_node\n",
        "    path.reverse()\n",
        "    return path\n",
        "\n",
        "# Example usage:\n",
        "graph = Graph()\n",
        "graph.add_edge('A', 'B', 1)\n",
        "graph.add_edge('A', 'C', 4)\n",
        "graph.add_edge('B', 'C', 2)\n",
        "graph.add_edge('B', 'D', 5)\n",
        "graph.add_edge('C', 'D', 1)\n",
        "\n",
        "start_node = 'A'\n",
        "shortest_paths = dijkstra(graph, start_node)\n",
        "\n",
        "# Print shortest paths from start_node to all other nodes\n",
        "for node in shortest_paths:\n",
        "    print(f\"Shortest path from {start_node} to {node}: {construct_path(shortest_paths, start_node, node)} with distance {shortest_paths[node][1]}\")\n"
      ],
      "metadata": {
        "id": "Li39F4S2Ai4c"
      },
      "execution_count": null,
      "outputs": []
    },
    {
      "cell_type": "markdown",
      "source": [
        "# Завдання 4"
      ],
      "metadata": {
        "id": "ahKwNsztB-Ho"
      }
    },
    {
      "cell_type": "code",
      "source": [
        "import uuid\n",
        "import networkx as nx\n",
        "import matplotlib.pyplot as plt\n",
        "\n",
        "class Node:\n",
        "    def __init__(self, key, color=\"skyblue\"):\n",
        "        self.left = None\n",
        "        self.right = None\n",
        "        self.val = key\n",
        "        self.color = color\n",
        "        self.id = str(uuid.uuid4())\n",
        "\n",
        "def add_edges(graph, node, pos, x=0, y=0, layer=1):\n",
        "    if node is not None:\n",
        "        graph.add_node(node.id, color=node.color, label=node.val)\n",
        "        if node.left:\n",
        "            graph.add_edge(node.id, node.left.id)\n",
        "            l = x - 1 / 2 ** layer\n",
        "            pos[node.left.id] = (l, y - 1)\n",
        "            l = add_edges(graph, node.left, pos, x=l, y=y - 1, layer=layer + 1)\n",
        "        if node.right:\n",
        "            graph.add_edge(node.id, node.right.id)\n",
        "            r = x + 1 / 2 ** layer\n",
        "            pos[node.right.id] = (r, y - 1)\n",
        "            r = add_edges(graph, node.right, pos, x=r, y=y - 1, layer=layer + 1)\n",
        "    return graph\n",
        "\n",
        "def draw_tree(tree_root):\n",
        "    tree = nx.DiGraph()\n",
        "    pos = {tree_root.id: (0, 0)}\n",
        "    tree = add_edges(tree, tree_root, pos)\n",
        "\n",
        "    colors = [node[1]['color'] for node in tree.nodes(data=True)]\n",
        "    labels = {node[0]: node[1]['label'] for node in tree.nodes(data=True)}\n",
        "\n",
        "    plt.figure(figsize=(10, 7))\n",
        "    nx.draw(tree, pos=pos, labels=labels, arrows=False, node_size=2500, node_color=colors)\n",
        "    plt.show()\n",
        "\n",
        "def array_to_heap(array):\n",
        "    if not array:\n",
        "        return None\n",
        "\n",
        "    nodes = [Node(val) for val in array]\n",
        "    for i in range(len(nodes)):\n",
        "        left_index = 2 * i + 1\n",
        "        right_index = 2 * i + 2\n",
        "        if left_index < len(nodes):\n",
        "            nodes[i].left = nodes[left_index]\n",
        "        if right_index < len(nodes):\n",
        "            nodes[i].right = nodes[right_index]\n",
        "\n",
        "    return nodes[0]\n",
        "\n",
        "def visualize_heap(array):\n",
        "    root = array_to_heap(array)\n",
        "    draw_tree(root)\n",
        "\n",
        "# Приклад використання:\n",
        "heap_array = [10, 15, 20, 17, 25]\n",
        "visualize_heap(heap_array)\n"
      ],
      "metadata": {
        "id": "ph1Vm5bvCBPr"
      },
      "execution_count": null,
      "outputs": []
    },
    {
      "cell_type": "markdown",
      "source": [
        "# Завдання 5"
      ],
      "metadata": {
        "id": "wG1o_hRrDYCs"
      }
    },
    {
      "cell_type": "code",
      "source": [
        "import uuid\n",
        "import networkx as nx\n",
        "import matplotlib.pyplot as plt\n",
        "from matplotlib.colors import rgb2hex\n",
        "from matplotlib.cm import get_cmap\n",
        "\n",
        "class Node:\n",
        "    def __init__(self, key, color=\"skyblue\"):\n",
        "        self.left = None\n",
        "        self.right = None\n",
        "        self.val = key\n",
        "        self.color = color\n",
        "        self.id = str(uuid.uuid4())  # Унікальний ідентифікатор для кожного вузла\n",
        "\n",
        "def add_edges(graph, node, pos, x=0, y=0, layer=1):\n",
        "    if node is not None:\n",
        "        graph.add_node(node.id, color=node.color, label=node.val)\n",
        "        if node.left:\n",
        "            graph.add_edge(node.id, node.left.id)\n",
        "            l = x - 1 / 2 ** layer\n",
        "            pos[node.left.id] = (l, y - 1)\n",
        "            l = add_edges(graph, node.left, pos, x=l, y=y - 1, layer=layer + 1)\n",
        "        if node.right:\n",
        "            graph.add_edge(node.id, node.right.id)\n",
        "            r = x + 1 / 2 ** layer\n",
        "            pos[node.right.id] = (r, y - 1)\n",
        "            r = add_edges(graph, node.right, pos, x=r, y=y - 1, layer=layer + 1)\n",
        "    return graph\n",
        "\n",
        "def draw_tree(tree_root, visited_nodes=None):\n",
        "    tree = nx.DiGraph()\n",
        "    pos = {tree_root.id: (0, 0)}\n",
        "    tree = add_edges(tree, tree_root, pos)\n",
        "\n",
        "    colors = [node[1]['color'] for node in tree.nodes(data=True)]\n",
        "    labels = {node[0]: node[1]['label'] for node in tree.nodes(data=True)}\n",
        "\n",
        "    plt.figure(figsize=(10, 7))\n",
        "    nx.draw(tree, pos=pos, labels=labels, arrows=False, node_size=2500, node_color=colors)\n",
        "\n",
        "    if visited_nodes:\n",
        "        for i, node in enumerate(visited_nodes):\n",
        "            node_color = rgb2hex(get_cmap('viridis')(i / len(visited_nodes))[:3])\n",
        "            nx.draw_networkx_nodes(tree, pos, nodelist=[node.id], node_color=node_color)\n",
        "\n",
        "    plt.show()\n",
        "\n",
        "# Функція для обходу в глибину (DFS)\n",
        "def dfs(node, visited_nodes):\n",
        "    if node:\n",
        "        visited_nodes.append(node)\n",
        "        dfs(node.left, visited_nodes)\n",
        "        dfs(node.right, visited_nodes)\n",
        "\n",
        "# Функція для обходу в ширину (BFS)\n",
        "def bfs(node, visited_nodes):\n",
        "    queue = [node]\n",
        "    while queue:\n",
        "        current = queue.pop(0)\n",
        "        if current:\n",
        "            visited_nodes.append(current)\n",
        "            queue.append(current.left)\n",
        "            queue.append(current.right)\n",
        "\n",
        "# Створення дерева\n",
        "root = Node(0)\n",
        "root.left = Node(4)\n",
        "root.left.left = Node(5)\n",
        "root.left.right = Node(10)\n",
        "root.right = Node(1)\n",
        "root.right.left = Node(3)\n",
        "\n",
        "# Відображення дерева\n",
        "print(\"Початкове дерево:\")\n",
        "draw_tree(root)\n",
        "\n",
        "# Візуалізація обходу в глибину (DFS)\n",
        "visited_nodes_dfs = []\n",
        "dfs(root, visited_nodes_dfs)\n",
        "print(\"Обхід в глибину (DFS):\")\n",
        "draw_tree(root, visited_nodes_dfs)\n",
        "\n",
        "# Візуалізація обходу в ширину (BFS)\n",
        "visited_nodes_bfs = []\n",
        "bfs(root, visited_nodes_bfs)\n",
        "print(\"Обхід в ширину (BFS):\")\n",
        "draw_tree(root, visited_nodes_bfs)\n"
      ],
      "metadata": {
        "id": "KYruEW4YDcK6"
      },
      "execution_count": null,
      "outputs": []
    },
    {
      "cell_type": "markdown",
      "source": [
        "# Завдання 6"
      ],
      "metadata": {
        "id": "6OXIQwFLEM6q"
      }
    },
    {
      "cell_type": "markdown",
      "source": [
        "#Жадібний алгоритм"
      ],
      "metadata": {
        "id": "6lM-EMW2EP6-"
      }
    },
    {
      "cell_type": "code",
      "source": [
        "def greedy_algorithm(items, budget):\n",
        "    # Сортування страв за спаданням співвідношення калорій до вартості\n",
        "    sorted_items = sorted(items.items(), key=lambda x: x[1]['calories'] / x[1]['cost'], reverse=True)\n",
        "\n",
        "    total_cost = 0\n",
        "    total_calories = 0\n",
        "    chosen_items = []\n",
        "\n",
        "    for item, info in sorted_items:\n",
        "        if total_cost + info['cost'] <= budget:\n",
        "            chosen_items.append(item)\n",
        "            total_cost += info['cost']\n",
        "            total_calories += info['calories']\n",
        "\n",
        "    return chosen_items, total_cost, total_calories\n",
        "\n",
        "items = {\n",
        "    \"pizza\": {\"cost\": 50, \"calories\": 300},\n",
        "    \"hamburger\": {\"cost\": 40, \"calories\": 250},\n",
        "    \"hot-dog\": {\"cost\": 30, \"calories\": 200},\n",
        "    \"pepsi\": {\"cost\": 10, \"calories\": 100},\n",
        "    \"cola\": {\"cost\": 15, \"calories\": 220},\n",
        "    \"potato\": {\"cost\": 25, \"calories\": 350}\n",
        "}\n",
        "\n",
        "budget = 100\n",
        "chosen_items, total_cost, total_calories = greedy_algorithm(items, budget)\n",
        "print(\"Greedy Algorithm Result:\")\n",
        "print(\"Chosen Items:\", chosen_items)\n",
        "print(\"Total Cost:\", total_cost)\n",
        "print(\"Total Calories:\", total_calories)\n"
      ],
      "metadata": {
        "id": "r22iBhQqEUYR"
      },
      "execution_count": null,
      "outputs": []
    },
    {
      "cell_type": "markdown",
      "source": [
        "#Алгоритм динамічного програмування"
      ],
      "metadata": {
        "id": "M7iAGHjqEVgL"
      }
    },
    {
      "cell_type": "code",
      "source": [
        "def dynamic_programming(items, budget):\n",
        "    # Ініціалізація таблиці dp, де dp[i][w] зберігає максимальні калорії, які можна отримати при бюджеті w, використовуючи перші i страв\n",
        "    n = len(items)\n",
        "    dp = [[0] * (budget + 1) for _ in range(n + 1)]\n",
        "    item_list = list(items.items())\n",
        "\n",
        "    # Заповнення таблиці dp\n",
        "    for i in range(1, n + 1):\n",
        "        item_name, info = item_list[i - 1]\n",
        "        cost = info['cost']\n",
        "        calories = info['calories']\n",
        "        for w in range(budget + 1):\n",
        "            if cost <= w:\n",
        "                dp[i][w] = max(dp[i - 1][w], dp[i - 1][w - cost] + calories)\n",
        "            else:\n",
        "                dp[i][w] = dp[i - 1][w]\n",
        "\n",
        "    # Визначення обраних страв\n",
        "    chosen_items = []\n",
        "    w = budget\n",
        "    for i in range(n, 0, -1):\n",
        "        if dp[i][w] != dp[i - 1][w]:\n",
        "            item_name, info = item_list[i - 1]\n",
        "            chosen_items.append(item_name)\n",
        "            w -= info['cost']\n",
        "\n",
        "    total_calories = dp[n][budget]\n",
        "    total_cost = sum(items[item]['cost'] for item in chosen_items)\n",
        "\n",
        "    return chosen_items, total_cost, total_calories\n",
        "\n",
        "chosen_items_dp, total_cost_dp, total_calories_dp = dynamic_programming(items, budget)\n",
        "print(\"Dynamic Programming Result:\")\n",
        "print(\"Chosen Items:\", chosen_items_dp)\n",
        "print(\"Total Cost:\", total_cost_dp)\n",
        "print(\"Total Calories:\", total_calories_dp)\n"
      ],
      "metadata": {
        "id": "9e0NcPhOEZzz"
      },
      "execution_count": null,
      "outputs": []
    },
    {
      "cell_type": "markdown",
      "source": [
        "#Завдання 7"
      ],
      "metadata": {
        "id": "faE0B4j_FYHE"
      }
    },
    {
      "cell_type": "code",
      "source": [
        "import random\n",
        "import matplotlib.pyplot as plt\n",
        "\n",
        "def roll_dice():\n",
        "    return random.randint(1, 6)\n",
        "\n",
        "def monte_carlo_simulation(num_simulations):\n",
        "    sums_count = {i: 0 for i in range(2, 13)}\n",
        "\n",
        "    for _ in range(num_simulations):\n",
        "        dice_sum = roll_dice() + roll_dice()\n",
        "        sums_count[dice_sum] += 1\n",
        "\n",
        "    probabilities = {k: (v / num_simulations) * 100 for k, v in sums_count.items()}\n",
        "    return probabilities\n",
        "\n",
        "# Налаштування симуляції\n",
        "num_simulations = 100000\n",
        "\n",
        "# Запуск симуляції Монте-Карло\n",
        "probabilities = monte_carlo_simulation(num_simulations)\n",
        "\n",
        "# Виведення результатів\n",
        "print(\"Результати симуляції Монте-Карло:\")\n",
        "for sum_val, prob in probabilities.items():\n",
        "    print(f\"Сума: {sum_val}, Імовірність: {prob:.2f}%\")\n",
        "\n",
        "# Аналітичні значення для порівняння\n",
        "analytical_probabilities = {\n",
        "    2: 2.78,\n",
        "    3: 5.56,\n",
        "    4: 8.33,\n",
        "    5: 11.11,\n",
        "    6: 13.89,\n",
        "    7: 16.67,\n",
        "    8: 13.89,\n",
        "    9: 11.11,\n",
        "    10: 8.33,\n",
        "    11: 5.56,\n",
        "    12: 2.78\n",
        "}\n",
        "\n",
        "# Побудова графіку\n",
        "fig, ax = plt.subplots()\n",
        "x = list(probabilities.keys())\n",
        "y_simulation = list(probabilities.values())\n",
        "y_analytical = [analytical_probabilities[i] for i in x]\n",
        "\n",
        "ax.plot(x, y_simulation, label='Монте-Карло', marker='o')\n",
        "ax.plot(x, y_analytical, label='Аналітичні', marker='x')\n",
        "ax.set_xlabel('Сума')\n",
        "ax.set_ylabel('Імовірність (%)')\n",
        "ax.set_title('Ймовірності сум при киданні двох кубиків')\n",
        "ax.legend()\n",
        "plt.grid()\n",
        "plt.show()\n"
      ],
      "metadata": {
        "id": "wLCUOPl8Fedg"
      },
      "execution_count": null,
      "outputs": []
    },
    {
      "cell_type": "markdown",
      "source": [
        "# Завдання 7: Використання методу Монте-Карло\n",
        "\n",
        "## Опис задачі\n",
        "\n",
        "Метою цього завдання було визначити ймовірності кожної можливої суми чисел при киданні двох кубиків за допомогою методу Монте-Карло та порівняти їх з аналітичними розрахунками.\n",
        "\n",
        "## Реалізація\n",
        "\n",
        "Ми написали програму на Python, яка:\n",
        "1. Імітує велику кількість кидків двох кубиків.\n",
        "2. Обчислює суми чисел, які випали на обох кубиках.\n",
        "3. Підраховує кількість кожної можливої суми (від 2 до 12).\n",
        "4. Визначає ймовірність кожної суми на основі отриманих даних.\n",
        "\n",
        "## Результати\n",
        "\n",
        "Результати симуляції методом Монте-Карло для 100000 кидків:\n",
        "\n",
        "| Сума | Імовірність (Монте-Карло) | Імовірність (Аналітична) |\n",
        "|------|----------------------------|--------------------------|\n",
        "| 2    | 2.74%                      | 2.78%                    |\n",
        "| 3    | 5.57%                      | 5.56%                    |\n",
        "| 4    | 8.35%                      | 8.33%                    |\n",
        "| 5    | 11.09%                     | 11.11%                   |\n",
        "| 6    | 13.94%                     | 13.89%                   |\n",
        "| 7    | 16.67%                     | 16.67%                   |\n",
        "| 8    | 13.90%                     | 13.89%                   |\n",
        "| 9    | 11.14%                     | 11.11%                   |\n",
        "| 10   | 8.26%                      | 8.33%                    |\n",
        "| 11   | 5.52%                      | 5.56%                    |\n",
        "| 12   | 2.72%                      | 2.78%                    |\n",
        "\n",
        "## Висновки\n",
        "\n",
        "1. **Точність методу Монте-Карло**:\n",
        "   - Результати симуляції методом Монте-Карло дуже близькі до аналітичних значень.\n",
        "   - Це підтверджує, що метод Монте-Карло є надійним підходом для оцінки ймовірностей.\n",
        "\n",
        "2. **Використання методу**:\n",
        "   - Метод Монте-Карло є корисним, коли аналітичний розрахунок є складним або неможливим.\n",
        "   - Для великих обсягів даних або складних систем цей метод дозволяє отримувати точні оцінки.\n",
        "\n",
        "3. **Графічне порівняння**:\n",
        "   - Графік показує, що отримані ймовірності від методу Монте-Карло практично збігаються з аналітичними, що ще раз підтверджує правильність проведеної симуляції.\n",
        "\n",
        "Метод Монте-Карло є потужним інструментом у статистичних дослідженнях та може використовуватись у багатьох реальних застосуваннях для оцінки ймовірностей та інших статистичних показників.\n"
      ],
      "metadata": {
        "id": "xWzSX6U_Ff4Y"
      }
    }
  ]
}